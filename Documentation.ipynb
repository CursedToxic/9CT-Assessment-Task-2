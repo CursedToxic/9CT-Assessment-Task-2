{
 "cells": [
  {
   "cell_type": "markdown",
   "metadata": {},
   "source": [
    "## Documentation"
   ]
  },
  {
   "cell_type": "markdown",
   "metadata": {},
   "source": [
    "23/7/2024 - Started finding a dataset: Looking on Kaggle to see if there were any that interest me.\n",
    "\n",
    "24/7/2024 - Found a dataframe to analyse: Steam Games User Statistics and Features. It has 79 Columns and 13356 Rows.\n",
    "\n",
    "26/7/2024 - Created a Kaggle account in order to download the dataset. Also downloaded a backup incase anything goes horribly wrong. Backup uis about operating system market share.\n",
    "\n",
    "31/7/2024 - Completed the Process of Choosing the Dataset & Defining the Purpose. This includes describing the data needed to be analysed, explaining the use of the data, providing the source of the data and how the .csv file can be assessed.\n",
    "\n",
    "1/8/2024 - Completed the first three parts of the Functional requirements. Two more points and I will be completed the backbone of Identifying and Defining.\n",
    "\n",
    "next lesson heree"
   ]
  }
 ],
 "metadata": {
  "kernelspec": {
   "display_name": "Python 3",
   "language": "python",
   "name": "python3"
  },
  "language_info": {
   "name": "python",
   "version": "3.12.1"
  }
 },
 "nbformat": 4,
 "nbformat_minor": 2
}
