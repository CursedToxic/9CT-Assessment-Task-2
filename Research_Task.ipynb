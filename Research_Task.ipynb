{
 "cells": [
  {
   "attachments": {},
   "cell_type": "markdown",
   "metadata": {},
   "source": [
    "# Research Task\n"
   ]
  },
  {
   "attachments": {},
   "cell_type": "markdown",
   "metadata": {},
   "source": [
    "## Identifying and Defining"
   ]
  },
  {
   "attachments": {},
   "cell_type": "markdown",
   "metadata": {},
   "source": [
    "### Choose Your Data Scenario and Define Your Purpose\n",
    "**Data:** The data that is going to be analysed is Steam Games User Statistics and Features (See 'Steam games data.zip')\\\n",
    "**Goal:** The goal is to find out which games are the most popular on which platforms\\\n",
    "**Source:** The dataset can be found on Kaggle at https://www.kaggle.com/datasets/thedevastator/steam-games-user-statistics-and-features\\\n",
    "**Access:** This data is publicly available as it is a download from Kaggle\\\n",
    "**Access Method:** The data will be accessed via a .csv file\n",
    "\n",
    "\n"
   ]
  },
  {
   "attachments": {},
   "cell_type": "markdown",
   "metadata": {},
   "source": [
    "### Functional Requirements\n",
    "**Data Loading:** \\\n",
    "&nbsp;Description: The program should be able to process multiple types of file formats such as .csv, .xlsx and APIs\\\n",
    "&nbsp;Input: Put .csv file into python, this is to be analysed using pandas\\\n",
    "&nbsp;Output: The program should continue if the file type is one that is specified to be accepted\n",
    "\n",
    "**Data Cleaning:** \\\n",
    "&nbsp;Description: The program should be able to filter out invalid file types\\\n",
    "&nbsp;Input: The user puts an invalid file type in\\\n",
    "&nbsp;Output: They will be told that it is an invalid file type and will not be able to analyse it\n",
    "\n",
    "**Data Analysis:** \\\n",
    "&nbsp;Description: The program needs to find out the mode of the type of games to find out which is the most popular in which platforms\\\n",
    "&nbsp;Input: The dataset is in the correct format and has been allwed to analyse\\\n",
    "&nbsp;Output: The output will be as both a combined graph and separate graphs wiht clickable buttons to access them\n",
    "\n",
    "**Data Visualisation:** \\\n",
    "&nbsp;Description: The data should be visualised through a chart. Navigation to platforms should be easy\\\n",
    "&nbsp;Input: The data is arranged into a dataframe and from there the data is turned into a graph representing the table\\\n",
    "&nbsp;Output: The data will be displayed in a graph with the options to go to each platform or thw whole world\n",
    "\n",
    "**Data Reporting:** \\\n",
    "&nbsp;Description: The output should be stored in a .py file as a python program, a .ipynb file as a Jupyter Notebook, or a .app file (GUI)\\\n",
    "&nbsp;Input: File is put in\\\n",
    "&nbsp;Output: File is saved as a .py or .app or .ipynb\n"
   ]
  },
  {
   "attachments": {},
   "cell_type": "markdown",
   "metadata": {},
   "source": [
    "### Use Cases \n",
    "**Data Loading:** \\\n",
    "&nbsp; **Actor:** User \\\n",
    "&nbsp; **Goal:** Load the data into the system \\\n",
    "&nbsp; **Preconditions:** The data must be the correct file types \\\n",
    "&nbsp; **Main Flow:** \\\n",
    "&nbsp;&nbsp; 1. User indicates the file path of the dataset \\\n",
    "&nbsp;&nbsp; 2. System validates the file format \\\n",
    "&nbsp;&nbsp; 3. System submits the dataset for cleaning \\\n",
    "&nbsp; **Postconditions:** The data is loaded and ready for cleaning\n",
    "\n",
    "**Data Cleaning:** \\\n",
    "&nbsp; **Actor:** System \\\n",
    "&nbsp; **Goal:** Find out which types of games are popular in which platforms \\\n",
    "&nbsp; **Preconditions:** The dataframe must have excess data \\\n",
    "&nbsp; **Main Flow:** \\\n",
    "&nbsp;&nbsp; 1. System checks whether there is data that can be cleaned \\\n",
    "&nbsp;&nbsp; 2. System performs the cleaning process \\\n",
    "&nbsp;&nbsp; 3. System loads the dataset ready to be analysed \\\n",
    "&nbsp; **Postconditions:** The data is loaded and ready for analysis \n",
    "\n",
    "**Data Analysis:** \\\n",
    "&nbsp; **Actor:** System \\\n",
    "&nbsp; **Goal:** Get rid of all the unecessary data \\\n",
    "&nbsp; **Preconditions:** The data must have information about the type of game and the platforms that they can be played on \\\n",
    "&nbsp; **Main Flow:** \\\n",
    "&nbsp;&nbsp; 1. System sorts the data into the different categories \\\n",
    "&nbsp;&nbsp; 2. System then sorts the games by their index on the dataset \\\n",
    "&nbsp;&nbsp; 3. System puts each of the sorted categories into the final format ready to be graphed \\\n",
    "&nbsp; **Postconditions:** The data has been analysed and is ready for visualisation\n",
    "\n",
    "**Data Visualisation:** \\\n",
    "&nbsp; **Actor:** System \\\n",
    "&nbsp; **Goal:** Graph the data \\\n",
    "&nbsp; **Preconditions:** The data must have information about the type of game and the platforms that they can be played on \\\n",
    "&nbsp; **Main Flow:** \\\n",
    "&nbsp;&nbsp; 1. System sorts the data into the different categories \\\n",
    "&nbsp;&nbsp; 2. System then sorts the games by their index on the dataset \\\n",
    "&nbsp;&nbsp; 3. System puts each of the sorted categories into the final format ready to be graphed \\\n",
    "&nbsp; **Postconditions:** The data has been analysed and is ready for reporting\n",
    "\n",
    "**Data Reporting:** \\\n",
    "&nbsp; **Actor:** User \\\n",
    "&nbsp; **Goal:** Store the data \\\n",
    "&nbsp; **Preconditions:** The user must have free disk space where they can store the data \\\n",
    "&nbsp; **Main Flow:** \\\n",
    "&nbsp;&nbsp; 1. System asks whether the user wants to save a copy of the data \\\n",
    "&nbsp;&nbsp; 2. System prompts the user to choose a file path in which to store the data \\\n",
    "&nbsp;&nbsp; 3. System saves the data to the file path \\\n",
    "&nbsp; **Postconditions:** The data has been stored and can be used in the future"
   ]
  },
  {
   "attachments": {},
   "cell_type": "markdown",
   "metadata": {},
   "source": [
    "### Non-Functional Requirements\n",
    "**Usability:** \\\n",
    "&nbsp; The system has to run smoothly and shall require administrator permission to run. This is because the program could be hacked to install malware/adware/viruses which would be bad for the user's computer. The README document will contain all text explaining that it is not a virus and that it will require the user's password in order to view the results of the analysis, similar to having to sign up in order to read further on some websites. After that it will display the interface where the graphs are displayed.\n",
    "\n",
    "**Reliability:** \\\n",
    "&nbsp; The system is required not to fail and should not fail as it requires the password of the user. This ensures that the program is reliable. The reliability of the information will depend on the accuracy of the file that is put in for analysis."
   ]
  },
  {
   "attachments": {},
   "cell_type": "markdown",
   "metadata": {},
   "source": [
    "## Researching and Planning\n"
   ]
  },
  {
   "attachments": {},
   "cell_type": "markdown",
   "metadata": {},
   "source": [
    "### Research of Chosen Issue\n",
    "**Purpose:** \\\n",
    "&nbsp; The purpose of this analysis is to find out which Steam games are available on which platforms. This will be done by first sorting each game into different categories based on their available platforms. Games that are supported on multiple platforms will appear in all platforms supported. After this process is completed, the games are then sorted by the number of downloads. This will determine the most popular games on their platforms for all time. Then the downloads are sorted into each year, from most to least. An individual game's popularity graph should also be able to be viewed. To display this information, the plan is to use a GUI (TKinter) and have interactive graphs and buttons for navigation. Whether these games are free will also matter, so this can be sorted into most popular free games. The reason this is important is because humans are still pack animals, and therefore still prefer to conform with the crowd. This also applies when the subject shifts to video games.\n",
    "\n",
    "**Missing Data:** \\\n",
    "&nbsp; The reason this analysis is necessary is because there are many different websites that all show different imformation depending on what plaftorm they are basing it off of, and some of these websites do not even tell the viewers what platforms these games are for. The results that will be displayed in the program will not only show the most popular games for each platform temporarily, it will also be updated every time the most popular game changes. This way, gamers will rest assured that they can stick with the largest pack.\n",
    "\n",
    "**Stakeholders:** \\\n",
    "&nbsp; The information that us created will benefit anyone who plays or wants to play video games. This information allows content creators to create gaming content that appeals to the largest audience. This also confirms the most popular. This will also benefit the gaming industry as it helps developers understand what their customers want.\n",
    "\n",
    "**Use:** \\\n",
    "&nbsp; The information can be ued by those who benefit by it in multiple different ways depending on which type of beneficiary. The developers can benefit from this as it will help them understand which types of games are popular. Streamers and content creators will benefit from this as they will then have the knowledge of which games most people play and can create content based on that, providing them with more views. This also helps people interested in games find more content creators as many others will follow in the popular ones' footsteps."
   ]
  },
  {
   "attachments": {},
   "cell_type": "markdown",
   "metadata": {},
   "source": [
    "## Privacy and Security\n",
    "**Data Privacy of Source:** \\\n",
    "&nbsp; The data was sourced from Kaggle, a webste where people can find free downloadable datasets. Kaggle needs to protect is the user’s credentials such as their personal information.\n",
    "\n",
    "**Application Data Privacy:** \\\n",
    "&nbsp; The responsibilities of this program are: All personal information shall not be looked at or collected, The program must be downloaded to use and require the user’s password to ensure that the data is not leakable. No data should be identifiable and when the user uninstalls the program, there should be no leftover files from it. Any reported bugs or data leaks/breaches are for the developer to fix. \n",
    "\n",
    "**Cyber Security:** \\\n",
    "&nbsp; Features an application should have in order to maintain cybersecurity once it is on the web are User Authentication, Password Hashing and Encryption. User Authentication is the user needing to enter a password in order to log in. This plays an important role in the cybersecurity of the app. Password Hashing is when the password is turned into a short string of letters and/or numbers using an encryption algorithm. Password Hashing prevents hackers from reasily reading the user's login details and therefore make it more difficult for the user to access personal infromation. Encryption is the use of powerful techniques to secure sensetive data. Encryption ensures that even in the event of an attack, they will not be able to read the information as they will not have access to the decryption key."
   ]
  },
  {
   "cell_type": "markdown",
   "metadata": {},
   "source": [
    "| Field | Datatype | Format for Display | Description | Example | Validation |\n",
    "|-------|----------|--------------------|-------------|---------|------------|\n",
    "|Game|object| ########(N) | The name of the game | Bloons TD5 | Must be a string and can have an optional number at the end|\n",
    "|Category|object| ########## | The genre of game | FPS | Must be a string |\n",
    "|Downloads|int64| NNNNNNNNNN | The number of downloads each game has | 123,456,789 | Must be an integer |\n",
    "|Platform|object| ########## | The operating system the game can be played on | macOS | Must be a string |\n",
    "|Year|int64| YYYY | The year the game was released | 2013 | Must be an integer with four digits no smaller than 1958 and no larger than 2024 | "
   ]
  },
  {
   "cell_type": "markdown",
   "metadata": {},
   "source": [
    "## Testing and Evaluating"
   ]
  },
  {
   "cell_type": "markdown",
   "metadata": {},
   "source": [
    "### Analyse and Conclude\n",
    "**Data Visualisation:**\\\n",
    "&nbsp; Below is the code for the platform comparison."
   ]
  },
  {
   "cell_type": "code",
   "execution_count": 4,
   "metadata": {},
   "outputs": [
    {
     "data": {
      "image/png": "[encoded data removed]",
      "text/plain": [
       "<Figure size 640x480 with 1 Axes>"
      ]
     },
     "metadata": {},
     "output_type": "display_data"
    }
   ],
   "source": [
    "import matplotlib.pyplot as plt\n",
    "\n",
    "Platform = ['PlatformMac', 'PlatformWindows', 'PlatformLinux', 'ControllerSupport']\n",
    "No_Games = [4562,13355,3057,3658]\n",
    "\n",
    "plt.bar(Platform, No_Games)\n",
    "plt.suptitle('Platform Comparison')\n",
    "plt.show()"
   ]
  },
  {
   "cell_type": "markdown",
   "metadata": {},
   "source": [
    "**Calculations:**\\\n",
    "&nbsp; The calculations done in this program are finding the number of games supported on each program and then graphing the numbers with matplotlib. This means that the calculations are all done by the computer, and they are completely accurate accordign to teh give .csv file.\n",
    "\n",
    "**Accuracy:**\\\n",
    "&nbsp; The information is only accurate to the specific dataset given. This dataset is quite outdated now as it does not have newer titles such as Bloons TD 6. \n",
    "\n",
    "**Conclusions:**\\\n",
    "&nbsp; The conclusions that can be drawn are that most games on Steam are playable on Windows, and around a quarter of those games have controller support. This dataset also shows that there may be even more games on Steam now than before as it is outdated and still has 13356 Rows."
   ]
  },
  {
   "cell_type": "markdown",
   "metadata": {},
   "source": [
    "### Peer Evaluation\n",
    "**Peer 1: Kelvin**\\\n",
    "&nbsp; Victor's program is fully functional and meets all functional requirements that procides all relevent information about the data. It is able to read the data file, veiw specific coloums/rows, create a graphic representation of his data and is able to run and quit on command. However, he met some non functional requirements like extreme ease to use, but on the other hand, he does not have any security, like username or password. Overall, victor's code is fully functional and gives relevant information from the dataset. It is easy to use and reiable but does not have security. \n",
    "\n",
    "**Peer 2: Levin**\\\n",
    "&nbsp; Victor's user interface is extremely good. It satisfies everything. Every single functional and non-functional requirement is satisfied with this code, and the non-functional ones as well. Overall, Victor has done a fabulous job.\n",
    "\n",
    "**Peer 3: Seb**\\\n",
    "&nbsp; Victor's program has a nice user interface that is easy to use, and can find the relevant information about the data. For the functional requirements, I believe that Victor has completed some of them. In regards to data loading, the data is able to be loaded and read by pandas, but it can't read multiple file types. For data cleaning, the data is cleaned to remove unessecary columns from the csv file, however he doesn't add the input which he said, where it would say that it's an invalid file type. For data analysis, there isn't an option to find the mode for the most popular game on each platform. In data visualisation, Victor has 1 matplotlib chart which shows the platform comparison. For data reporting, you can save the output. For the non-functional requirements, I believe that Victor has completed some of them. With usabiity, the data is easy to use with the user interface, so it fits with usability. However for reliability, Victor said that the user will be required to enter a password to work, but there is no option for it. Overall, Victor has done a great job with his code with an easy to use user interface, and has options so that you can find the answers from the dataset."
   ]
  },
  {
   "cell_type": "markdown",
   "metadata": {},
   "source": [
    "### Personal Evaluation Based on Peers\n",
    "**In Relation to Peers:**\\\n",
    "Based on the given peer feedback, my user interface was great, however, I did not meet some of the functional and non functional requirements. One of these requirements that I have not met is the ability to filter out invalid file type, demonstrating a missing knowledge gap of how to read different file types in python. Overall, more functional requirements could have been met with more knowledge of python though the user interface was easy to use."
   ]
  },
  {
   "cell_type": "markdown",
   "metadata": {},
   "source": [
    "### Evaluation of Final Product in Relation to Functional and Non-Functional Requirements\n",
    "**Functional Requirements:**\\\n",
    "&nbsp; While my data analysis program did work, it did not meet most of the functional requirements. One of the functional requirements was that the program would allow .csv, .xlsx or .API, however, the program that I have created has not been tested with the .xslx or the .API file types, resulting in an area that was not adequately tested and therefor could not be considered as working. Overall, the program needs to be tested wtih these file types to see whether they work or not and while doing so, to also see whether it will deny invalid file types.\n",
    "\n",
    "**Non-Functional Requirements:**\\\n",
    "&nbsp; While the program was extremely reliable and quite useable, it did not meet one of the important non-functional requirements which was that the program would require user authentication i.e. to type in their computer parssword in order to access the program. However, I do not have the skills to be able to achieve this yet meaning that I would not have been able to do so even if I was given more time. Overall, the program mostly met the non-functional requirements except for the computer password authentication."
   ]
  },
  {
   "cell_type": "markdown",
   "metadata": {},
   "source": [
    "### Evaluation of your Project in Relation to Testing and Project Management\n",
    "**Time Management:**\\\n",
    "&nbsp; Time management this assessment task was much better than the time management during the last task. Last task, my documentation was in dot points, however, this time I have the full documentation and everything else required, resulting in a more concentrated and locked-in self. Overall, my time management has improved by a considerable amount from the last assessment task.\n",
    "\n",
    "**Effort:**\\\n",
    "&nbsp; The effort put in during thsi assessment seems to be much more than that of last assessment. This is because last assessment I spent most of the time working ont he practical part of the task, with almost no trace of documentation, however, this time around I have all the documentation needed and completed the practical task, demonstrating self improvement."
   ]
  }
 ],
 "metadata": {
  "kernelspec": {
   "display_name": "Python 3",
   "language": "python",
   "name": "python3"
  },
  "language_info": {
   "codemirror_mode": {
    "name": "ipython",
    "version": 3
   },
   "file_extension": ".py",
   "mimetype": "text/x-python",
   "name": "python",
   "nbconvert_exporter": "python",
   "pygments_lexer": "ipython3",
   "version": "3.12.5"
  }
 },
 "nbformat": 4,
 "nbformat_minor": 2
}
