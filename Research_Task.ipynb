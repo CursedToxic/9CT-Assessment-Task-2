{
 "cells": [
  {
   "cell_type": "markdown",
   "metadata": {},
   "source": [
    "# Research Task\n"
   ]
  },
  {
   "cell_type": "markdown",
   "metadata": {},
   "source": [
    "## Identifying and Defining"
   ]
  },
  {
   "cell_type": "markdown",
   "metadata": {},
   "source": [
    "### Choose Your Data Scenario and Define Your Purpose\n",
    "**Data:** The data that is going to be analysed is Steam Games User Statistics and Features (See 'Steam games data.zip')\\\n",
    "**Goal:** The goal is to find out which games are the most popular on which platforms\\\n",
    "**Source:** The dataset can be found on Kaggle at https://www.kaggle.com/datasets/thedevastator/steam-games-user-statistics-and-features\\\n",
    "**Access:** This data is publicly available as it is a download from Kaggle\\\n",
    "**Access Method:** The data will be accessed via a .csv file\n",
    "\n",
    "\n"
   ]
  },
  {
   "cell_type": "markdown",
   "metadata": {},
   "source": [
    "### Functional Requirements\n",
    "**Data Loading:** \\\n",
    "&nbsp;Description: The program should be able to process multiple types of file formats such as .csv, .xlsx and APIs\\\n",
    "&nbsp;Input: Put .csv file into python, this is to be analysed using pandas\\\n",
    "&nbsp;Output: The program should continue if the file type is one that is specified to be accepted\n",
    "\n",
    "**Data Cleaning:** \\\n",
    "&nbsp;Description: The program should be able to filter out invalid file types\\\n",
    "&nbsp;Input: The user puts an invalid file type in\\\n",
    "&nbsp;Output: They will be told that it is an invalid file type and will not be able to analyse it\n",
    "\n",
    "**Data Analysis:** \\\n",
    "&nbsp;Description: The program needs to find out the mode of the type of games to find out which is the most popular in which platforms\\\n",
    "&nbsp;Input: The dataset is in the correct format and has been allwed to analyse\\\n",
    "&nbsp;Output: The output will be as both a combined graph and separate graphs wiht clickable buttons to access them\n",
    "\n",
    "**Data Visualisation:** \\\n",
    "&nbsp;Description: The data should be visualised through a chart. Navigation to platforms should be easy\\\n",
    "&nbsp;Input: The data is arranged into a dataframe and from there the data is turned into a graph representing the table\\\n",
    "&nbsp;Output: The data will be displayed in a graph with the options to go to each platform or thw whole world\n",
    "\n",
    "**Data Reporting:** \\\n",
    "&nbsp;Description: The output should be stored in a .py file as a python program, a .ipynb file as a Jupyter Notebook, or a .app file (GUI)\\\n",
    "&nbsp;Input: File is put in\\\n",
    "&nbsp;Output: File is saved as a .py or .app or .ipynb\n"
   ]
  },
  {
   "cell_type": "markdown",
   "metadata": {},
   "source": [
    "### Use Cases \n",
    "**Data Loading:** \\\n",
    "&nbsp; **Actor:** User \\\n",
    "&nbsp; **Goal:** Load the data into the system \\\n",
    "&nbsp; **Preconditions:** The data must be the correct file types \\\n",
    "&nbsp; **Main Flow:** \\\n",
    "&nbsp;&nbsp; 1. User indicates the file path of the dataset \\\n",
    "&nbsp;&nbsp; 2. System validates the file format \\\n",
    "&nbsp;&nbsp; 3. System submits the dataset for cleaning \\\n",
    "&nbsp; **Postconditions:** The data is loaded and ready for cleaning\n",
    "\n",
    "**Data Cleaning:** \\\n",
    "&nbsp; **Actor:** System \\\n",
    "&nbsp; **Goal:** Find out which types of games are popular in which platforms \\\n",
    "&nbsp; **Preconditions:** The dataframe must have excess data \\\n",
    "&nbsp; **Main Flow:** \\\n",
    "&nbsp;&nbsp; 1. System checks whether there is data that can be cleaned \\\n",
    "&nbsp;&nbsp; 2. System performs the cleaning process \\\n",
    "&nbsp;&nbsp; 3. System loads the dataset ready to be analysed \\\n",
    "&nbsp; **Postconditions:** The data is loaded and ready for analysis \n",
    "\n",
    "**Data Analysis:** \\\n",
    "&nbsp; **Actor:** System \\\n",
    "&nbsp; **Goal:** Get rid of all the unecessary data \\\n",
    "&nbsp; **Preconditions:** The data must have information about the type of game and the platforms that they can be played on \\\n",
    "&nbsp; **Main Flow:** \\\n",
    "&nbsp;&nbsp; 1. System sorts the data into the different categories \\\n",
    "&nbsp;&nbsp; 2. System then sorts the games by amount of downloads \\\n",
    "&nbsp;&nbsp; 3. System puts each of the sorted categories into the final format ready to be graphed \\\n",
    "&nbsp; **Postconditions:** The data has been analysed and is ready for visualisation\n",
    "\n",
    "**Data Visualisation:** \\\n",
    "&nbsp; **Actor:** System \\\n",
    "&nbsp; **Goal:** Graph the data \\\n",
    "&nbsp; **Preconditions:** The data must have information about the type of game and the platforms that they can be played on \\\n",
    "&nbsp; **Main Flow:** \\\n",
    "&nbsp;&nbsp; 1. System sorts the data into the different categories \\\n",
    "&nbsp;&nbsp; 2. System then sorts the games by amount of downloads \\\n",
    "&nbsp;&nbsp; 3. System puts each of the sorted categories into the final format ready to be graphed \\\n",
    "&nbsp; **Postconditions:** The data has been analysed and is ready for reporting\n",
    "\n",
    "**Data Reporting:** \\\n",
    "&nbsp; **Actor:** User \\\n",
    "&nbsp; **Goal:** Store the data \\\n",
    "&nbsp; **Preconditions:** The user must have free disk space where they can store the data \\\n",
    "&nbsp; **Main Flow:** \\\n",
    "&nbsp;&nbsp; 1. System asks whether the user wants to save a copy of the data \\\n",
    "&nbsp;&nbsp; 2. System prompts the user to choose a file path in which to store the data \\\n",
    "&nbsp;&nbsp; 3. System saves the data to the file path \\\n",
    "&nbsp; **Postconditions:** The data has been stored and can be used in the future"
   ]
  },
  {
   "cell_type": "markdown",
   "metadata": {},
   "source": [
    "### Non-Functional Requirements\n",
    "**Usability:** \\\n",
    "&nbsp; The system has to run smoothly and shall require administrator permission to run. This is because the program could be hacked to install malware/adware/viruses which would be bad for the user's computer. The README document will contain all text explaining that it is not a virus and that it will require the user's password in order to view the results of the analysis, similar to having to sign up in order to read further on some websites. After that it will display the interface where the graphs are displayed.\n",
    "\n",
    "**Reliability:** \\\n",
    "&nbsp; The system is required not to fail and should not fail as it requires the password of the user. This ensures that the program is reliable. The reliability of the information will depend on the accuracy of the file that is put in for analysis."
   ]
  },
  {
   "cell_type": "markdown",
   "metadata": {},
   "source": [
    "## Researching and Planning\n"
   ]
  },
  {
   "cell_type": "markdown",
   "metadata": {},
   "source": [
    "### Research of Chosen Issue\n",
    "**Purpose:** \\\n",
    "&nbsp; The purpose of this analysis is to find out which Steam games are available on which platforms. This will be done by first sorting each game into different categories based on their available platforms. Games that are supported on multiple platforms will appear in all platforms supported. After this process is completed, the games are then sorted by the number of downloads. This will determine the most popular games on their platforms for all time. Then the downloads are sorted into each year, from most to least. An individual game's popularity graph should also be able to be viewed. To display this information, the plan is to use a GUI (TKinter) and have interactive graphs and buttons for navigation. Whether these games are free will also matter, so this can be sorted into most popular free games. The reason this is important is because humans are still pack animals, and therefore still prefer to conform with the crowd. This also applies when the subject shifts to video games.\n",
    "\n",
    "**Missing Data:** \\\n",
    "&nbsp; The reason this analysis is necessary is because there are many different websites that all show different imformation depending on what plaftorm they are basing it off of, and some of these websites do not even tell the viewers what platforms these games are for. The results that will be displayed in the program will not only show the most popular games for each platform temporarily, it will also be updated every time the most popular game changes. This way, gamers will rest assured that they can stick with the largest pack.\n",
    "\n",
    "**Stakeholders:** \\\n",
    "&nbsp; The information that us created will benefit anyone who plays or wants to play video games. This information allows content creators to create gaming content that appeals to the largest audience. This also confirms the most popular. This will also benefit the gaming industry as it helps developers understand what their customers want.\n",
    "\n",
    "**Use:** \\\n",
    "&nbsp; The information can be ued by those who benefit by it in multiple different ways depending on which type of beneficiary. The developers can benefit from this as it will help them understand which types of games are popular. Streamers and content creators will benefit from this as they will then have the knowledge of which games most people play and can create content based on that, providing them with more views. This also helps people interested in games find more content creators as many others will follow in the popular ones' footsteps."
   ]
  },
  {
   "cell_type": "markdown",
   "metadata": {},
   "source": [
    "## Privacy and Security\n",
    "**Data Privacy of Source:** \\\n",
    "&nbsp; The data was sourced from Kaggle, a webste where people can find free downloadable datasets. Kaggle needs to protect is the user’s credentials such as their personal information.\n",
    "\n",
    "**Application Data Privacy:** \\\n",
    "&nbsp; The responsibilities of this program are: All personal information shall not be looked at or collected, The program must be downloaded to use and require the user’s password to ensure that the data is not leakable. No data should be identifiable and when the user uninstalls the program, there should be no leftover files from it. Any reported bugs or data leaks/breaches are for the developer to fix. \n",
    "\n",
    "**Cyber Security:** \\\n",
    "&nbsp; "
   ]
  }
 ],
 "metadata": {
  "language_info": {
   "name": "python"
  }
 },
 "nbformat": 4,
 "nbformat_minor": 2
}
